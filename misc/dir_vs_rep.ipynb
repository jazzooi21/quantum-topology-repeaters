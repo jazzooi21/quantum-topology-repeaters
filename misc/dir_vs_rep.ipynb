{
 "cells": [
  {
   "cell_type": "code",
   "execution_count": 1,
   "metadata": {},
   "outputs": [],
   "source": [
    "import numpy as np\n",
    "import random\n",
    "import matplotlib.pyplot as plt\n",
    "import matplotlib.colors as mcolors\n",
    "import matplotlib.patches as mpatches\n",
    "import math\n",
    "import keyboard\n",
    "from IPython.display import clear_output\n",
    "\n",
    "import multiprocessing as mp"
   ]
  },
  {
   "cell_type": "code",
   "execution_count": 2,
   "metadata": {},
   "outputs": [],
   "source": [
    "from numba import njit,jit,prange\n",
    "from numba.core import types\n",
    "from numba.typed import Dict\n",
    "from concurrent.futures import ProcessPoolExecutor, as_completed"
   ]
  },
  {
   "cell_type": "code",
   "execution_count": 3,
   "metadata": {},
   "outputs": [],
   "source": [
    "k=0.2/10*np.log(10)"
   ]
  },
  {
   "cell_type": "code",
   "execution_count": 4,
   "metadata": {},
   "outputs": [],
   "source": [
    "def prob_all(n,p):\n",
    "    truth_vals = [False for _ in range(n)]\n",
    "    counter = 0\n",
    "    while not all(truth_vals):\n",
    "        counter += 1\n",
    "        for i,b in enumerate(truth_vals):\n",
    "            if not b:\n",
    "                if random.random() < p:\n",
    "                    truth_vals[i] = True\n",
    "    return counter"
   ]
  },
  {
   "cell_type": "code",
   "execution_count": 5,
   "metadata": {},
   "outputs": [],
   "source": [
    "def it(i,n,p):\n",
    "    l = []\n",
    "    for i in range(i):\n",
    "        l.append(prob_all(n,p))\n",
    "\n",
    "    return l\n",
    "\n",
    "# n is number of dice/segments\n",
    "# p is probability of success\n",
    "# i is number of timeslots/trials"
   ]
  },
  {
   "cell_type": "code",
   "execution_count": 6,
   "metadata": {},
   "outputs": [],
   "source": [
    "# Z_n is the mean number of timeslots until all segments are generated \n",
    "def Z(p,N):\n",
    "    sol_ = 0\n",
    "    for j in range(1,N+1):\n",
    "        term = math.comb(N,j) * (-1)**(j+1) / (1 - (1-p)**j)\n",
    "        sol_ += term\n",
    "    return sol_\n",
    "\n",
    "def exp_subl(L,N):\n",
    "    return Z(np.exp(-k*L/N),N)"
   ]
  },
  {
   "cell_type": "code",
   "execution_count": 7,
   "metadata": {},
   "outputs": [],
   "source": [
    "def prob_all_SaE_naive(n,p,q): # naive: if one swapping fails, all break\n",
    "    truth_vals = [False for _ in range(n)]\n",
    "    counter = 0\n",
    "    while not all(truth_vals):\n",
    "        counter += 1\n",
    "        for i,b in enumerate(truth_vals):\n",
    "            if not b:\n",
    "                if random.random() < p:\n",
    "                    truth_vals[i] = True\n",
    "        if all(truth_vals):\n",
    "            if random.random() < q**(n-1):\n",
    "                return counter\n",
    "            else:\n",
    "                truth_vals = [False for _ in range(n)]\n",
    "def it_SaE_naive(i,n,p,q):\n",
    "    l = []\n",
    "    for i in range(i):\n",
    "        l.append(prob_all_SaE_naive(n,p,q))\n",
    "    return l"
   ]
  },
  {
   "cell_type": "code",
   "execution_count": 8,
   "metadata": {},
   "outputs": [],
   "source": [
    "def it_SaE_2(i,p,q):\n",
    "    l = []\n",
    "    for i in range(i):\n",
    "        l.append(prob_all_SaE_naive(2,p,q))\n",
    "    return l"
   ]
  },
  {
   "cell_type": "code",
   "execution_count": 9,
   "metadata": {},
   "outputs": [],
   "source": [
    "def prob_all_SaE_3(p,q):\n",
    "    truth_vals = [False for _ in range(3)]\n",
    "    counter = 0\n",
    "    while not all(truth_vals):\n",
    "        counter += 1\n",
    "        for i,b in enumerate(truth_vals):\n",
    "            if not b:\n",
    "                if random.random() < p:\n",
    "                    truth_vals[i] = True\n",
    "        if all(truth_vals):\n",
    "            if random.random() < q:\n",
    "                if random.random() < q:\n",
    "                    return counter\n",
    "                else:\n",
    "                    truth_vals[1] = False\n",
    "                    truth_vals[2] = False\n",
    "            else:\n",
    "                truth_vals[0] = False\n",
    "                truth_vals[1] = False\n",
    "                \n",
    "def it_SaE_3(i,p,q):\n",
    "    l = []\n",
    "    for i in range(i):\n",
    "        l.append(prob_all_SaE_3(p,q))\n",
    "    return l"
   ]
  },
  {
   "cell_type": "code",
   "execution_count": 10,
   "metadata": {},
   "outputs": [],
   "source": [
    "def prob_all_SaE_4(p,q):\n",
    "    truth_vals = [False for _ in range(4)]\n",
    "    counter = 0\n",
    "    while not all(truth_vals):\n",
    "        counter += 1\n",
    "        for i,b in enumerate(truth_vals):\n",
    "            if not b:\n",
    "                if random.random() < p:\n",
    "                    truth_vals[i] = True\n",
    "        if all(truth_vals):\n",
    "            if random.random() < q:\n",
    "                print('--o--?--?--')\n",
    "                if random.random() < q:\n",
    "                    print('--o--?--o--')\n",
    "                    if random.random() < q:\n",
    "                        print('--o--o--o--')\n",
    "                        return counter\n",
    "                    else:\n",
    "                        print('--o--x--o--')\n",
    "                        truth_vals = [False for _ in range(4)]\n",
    "                else:\n",
    "                    print('--o--?--x--')\n",
    "                    truth_vals[2] = False\n",
    "                    truth_vals[3] = False\n",
    "            else:\n",
    "                print('--x--?--?--')\n",
    "                truth_vals[0] = False\n",
    "                truth_vals[1] = False\n",
    "                \n",
    "def it_SaE_4(i,p,q):\n",
    "    l = []\n",
    "    for i in range(i):\n",
    "        l.append(prob_all_SaE_4(p,q))\n",
    "    return l"
   ]
  }
 ],
 "metadata": {
  "kernelspec": {
   "display_name": "Python 3",
   "language": "python",
   "name": "python3"
  },
  "language_info": {
   "codemirror_mode": {
    "name": "ipython",
    "version": 3
   },
   "file_extension": ".py",
   "mimetype": "text/x-python",
   "name": "python",
   "nbconvert_exporter": "python",
   "pygments_lexer": "ipython3",
   "version": "3.10.11"
  }
 },
 "nbformat": 4,
 "nbformat_minor": 2
}
